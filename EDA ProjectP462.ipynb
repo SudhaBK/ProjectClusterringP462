{
 "cells": [
  {
   "cell_type": "markdown",
   "id": "2f70a4d7",
   "metadata": {},
   "source": [
    "#  <span style=\"color:green\">Clustering Global Development"
   ]
  },
  {
   "cell_type": "code",
   "execution_count": null,
   "id": "9fecdf41",
   "metadata": {},
   "outputs": [],
   "source": [
    "import pandas as pd"
   ]
  },
  {
   "cell_type": "code",
   "execution_count": null,
   "id": "2003783a",
   "metadata": {},
   "outputs": [],
   "source": [
    "c = pd.read_csv('World_development_mesurement.csv')"
   ]
  },
  {
   "cell_type": "markdown",
   "id": "850e4a7b",
   "metadata": {},
   "source": [
    "# Data Preview"
   ]
  },
  {
   "cell_type": "code",
   "execution_count": null,
   "id": "b5291ece",
   "metadata": {},
   "outputs": [],
   "source": [
    "#Displaying first 5 records\n",
    "c.head()"
   ]
  },
  {
   "cell_type": "code",
   "execution_count": null,
   "id": "756f21ee",
   "metadata": {},
   "outputs": [],
   "source": [
    "#Displaying last 5 records\n",
    "c.tail()"
   ]
  },
  {
   "cell_type": "markdown",
   "id": "d09a4ad7",
   "metadata": {},
   "source": [
    "# Data Size"
   ]
  },
  {
   "cell_type": "code",
   "execution_count": null,
   "id": "becc7724",
   "metadata": {},
   "outputs": [],
   "source": [
    "c.shape"
   ]
  },
  {
   "cell_type": "markdown",
   "id": "0deaadb1",
   "metadata": {},
   "source": [
    "# Columns"
   ]
  },
  {
   "cell_type": "code",
   "execution_count": null,
   "id": "2651114e",
   "metadata": {},
   "outputs": [],
   "source": [
    "c.columns"
   ]
  },
  {
   "cell_type": "markdown",
   "id": "a0a19c90",
   "metadata": {},
   "source": [
    "# Data Types"
   ]
  },
  {
   "cell_type": "code",
   "execution_count": null,
   "id": "dc7dbf7b",
   "metadata": {},
   "outputs": [],
   "source": [
    "c.info()"
   ]
  },
  {
   "cell_type": "markdown",
   "id": "da121e18",
   "metadata": {},
   "source": [
    "- We have 17-float64, 2-int64, 6-object\n",
    "- The dataset has 2,704 rows and 25 columns, with a mix of numerical and categorical data types."
   ]
  },
  {
   "cell_type": "markdown",
   "id": "4000d87e",
   "metadata": {},
   "source": [
    "# Summary Statistics"
   ]
  },
  {
   "cell_type": "code",
   "execution_count": null,
   "id": "f4a98783",
   "metadata": {},
   "outputs": [],
   "source": [
    "# Summary statistics for numerical columns\n",
    "print(\"\\nSummary statistics for numerical columns:\\n\", c.describe())"
   ]
  },
  {
   "cell_type": "markdown",
   "id": "695396a2",
   "metadata": {},
   "source": [
    "# Missing Values"
   ]
  },
  {
   "cell_type": "markdown",
   "id": "9a22d515",
   "metadata": {},
   "source": [
    "1. Firstly we will Visualizing Missing Values"
   ]
  },
  {
   "cell_type": "code",
   "execution_count": null,
   "id": "f86f94e0",
   "metadata": {},
   "outputs": [],
   "source": [
    "c.isnull().sum()[c.isnull().sum()>0]"
   ]
  },
  {
   "cell_type": "code",
   "execution_count": null,
   "id": "db96d77c",
   "metadata": {},
   "outputs": [],
   "source": [
    "import matplotlib.pyplot as plt\n",
    "import seaborn as sns\n",
    "\n",
    "# Heatmap to visualize missing data\n",
    "plt.figure(figsize=(12, 6))\n",
    "sns.heatmap(c.isnull(), cbar=False, cmap='viridis')\n",
    "plt.title('Missing Values Heatmap')\n",
    "plt.show()\n",
    "\n",
    "# Bar plot of missing values count for each column\n",
    "missing_values = c.isnull().sum()\n",
    "missing_values = missing_values[missing_values > 0].sort_values(ascending=False)\n",
    "\n",
    "plt.figure(figsize=(10, 6))\n",
    "missing_values.plot(kind='bar', color='skyblue')\n",
    "plt.title('Count of Missing Values per Column')\n",
    "plt.ylabel('Missing Value Count')\n",
    "plt.show()\n"
   ]
  },
  {
   "cell_type": "markdown",
   "id": "3b636f0b",
   "metadata": {},
   "source": [
    "2. After Visualization we'll fill missing values by three ways:\n",
    "    1. Dropping Columns with High Missing Values\n",
    "    2. Filling Numerical Columns with Mean\n",
    "    3. Filling Categorical Columns with Mode\n",
    "    "
   ]
  },
  {
   "cell_type": "markdown",
   "id": "c3cb5233",
   "metadata": {},
   "source": [
    "<h3 style=\"color:#00A36C\">A. Dropping Columns with High Missing Values</h3>\n",
    "- If a columns have a large proportion of missing values e.g., Ease of Business has 2,519 missing values out of 2,704 it might be practical to drop them, because they don't contribute much to your analysis."
   ]
  },
  {
   "cell_type": "code",
   "execution_count": null,
   "id": "67c03cd6",
   "metadata": {},
   "outputs": [],
   "source": [
    "# For columns with more than 50% missing values, droping them\n",
    "threshold = len(c) * 0.5\n",
    "c.dropna(thresh=threshold, axis=1, inplace=True)\n",
    "print(\"Columns remaining after dropping high missing value columns:\\n\", c.columns)\n",
    "print(c.shape)"
   ]
  },
  {
   "cell_type": "markdown",
   "id": "81797be6",
   "metadata": {},
   "source": [
    "<h3 style=\"color:#00A36C\">B. Filling Numerical Columns with Mean</h3>\n"
   ]
  },
  {
   "cell_type": "code",
   "execution_count": null,
   "id": "f23ec98a",
   "metadata": {},
   "outputs": [],
   "source": [
    "# Fill missing values in numerical columns with mean\n",
    "numerical_columns = c.select_dtypes(include=['float64', 'int64']).columns\n",
    "\n",
    "for col in numerical_columns:\n",
    "    c[col].fillna(c[col].mean(), inplace=True)\n",
    "\n",
    "# Verify if missing values in numerical columns are handled\n",
    "print(\"Missing values after mean imputation:\\n\", c[numerical_columns].isnull().sum())\n"
   ]
  },
  {
   "cell_type": "code",
   "execution_count": null,
   "id": "adfd02df",
   "metadata": {},
   "outputs": [],
   "source": [
    "c.isnull().sum()[c.isnull().sum()>0]"
   ]
  },
  {
   "cell_type": "markdown",
   "id": "e5d04705",
   "metadata": {},
   "source": [
    "<h3 style=\"color:#00A36C\">C. Filling Categorical Columns with Mode</h3>\n"
   ]
  },
  {
   "cell_type": "code",
   "execution_count": null,
   "id": "dcfe31d8",
   "metadata": {},
   "outputs": [],
   "source": [
    "# Fill missing values in categorical columns with mode\n",
    "categorical_columns = c.select_dtypes(include=['object']).columns\n",
    "\n",
    "for col in categorical_columns:\n",
    "    c[col].fillna(c[col].mode()[0], inplace=True)\n",
    "\n",
    "# Verify if missing values in categorical columns are handled\n",
    "print(\"Missing values after mode imputation:\\n\", c[categorical_columns].isnull().sum())\n"
   ]
  },
  {
   "cell_type": "code",
   "execution_count": null,
   "id": "7ed6cdd0",
   "metadata": {},
   "outputs": [],
   "source": [
    "# Finally checking for any remaining missing values \n",
    "print(\"Remaining missing values = \\n\", c.isnull().sum()[c.isnull().sum() > 0])\n"
   ]
  },
  {
   "cell_type": "markdown",
   "id": "e0e6d95e",
   "metadata": {},
   "source": [
    "- No missing values now."
   ]
  },
  {
   "cell_type": "code",
   "execution_count": null,
   "id": "217391fe",
   "metadata": {},
   "outputs": [],
   "source": []
  },
  {
   "cell_type": "markdown",
   "id": "55d0e877",
   "metadata": {},
   "source": [
    "# EDA"
   ]
  },
  {
   "cell_type": "markdown",
   "id": "9cf3259f",
   "metadata": {},
   "source": [
    "1. Histogram for Numerical Columns\n",
    "- Histograms show the distribution of individual numerical columns, which is useful for understanding data spread, skewness, and common values."
   ]
  },
  {
   "cell_type": "code",
   "execution_count": null,
   "id": "cd763f34",
   "metadata": {},
   "outputs": [],
   "source": [
    "import matplotlib.pyplot as plt\n",
    "\n",
    "# Histogram for the 'GDP' column\n",
    "plt.figure(figsize=(8, 5))\n",
    "plt.hist(c['GDP'].dropna(), bins=30, color='skyblue', edgecolor='black')\n",
    "plt.title('GDP Distribution')\n",
    "plt.xlabel('GDP')\n",
    "plt.ylabel('Frequency')\n",
    "plt.show()\n"
   ]
  },
  {
   "cell_type": "code",
   "execution_count": null,
   "id": "7c0e1ea7",
   "metadata": {},
   "outputs": [],
   "source": []
  },
  {
   "cell_type": "markdown",
   "id": "542bd6b0",
   "metadata": {},
   "source": [
    "2. Box Plot\n",
    "- Box plots help detect outliers in numerical columns by showing the spread and identifying extreme values.\n"
   ]
  },
  {
   "cell_type": "code",
   "execution_count": null,
   "id": "cbb8595b",
   "metadata": {},
   "outputs": [],
   "source": [
    "# Box plots for numerical features (to detect outliers)\n",
    "plt.figure(figsize=(15, 10))\n",
    "for i, col in enumerate(numerical_columns, 1):\n",
    "    plt.subplot(5, 4, i)\n",
    "    sns.boxplot(x=c[col])\n",
    "    plt.title(col)\n",
    "plt.tight_layout()\n",
    "plt.show()"
   ]
  },
  {
   "cell_type": "code",
   "execution_count": null,
   "id": "2ea9e883",
   "metadata": {},
   "outputs": [],
   "source": [
    "# we have some outliers in columns like CO2 Emission, Days to Start Business, Energy Usage, etc"
   ]
  },
  {
   "cell_type": "code",
   "execution_count": null,
   "id": "896488aa",
   "metadata": {},
   "outputs": [],
   "source": []
  },
  {
   "cell_type": "markdown",
   "id": "6546214e",
   "metadata": {},
   "source": [
    "3. Correlation Heatmap\n",
    "- A heatmap of correlations helps reveal relationships among numerical features, indicating how they might interact with each other.\n"
   ]
  },
  {
   "cell_type": "code",
   "execution_count": null,
   "id": "a68a4df4",
   "metadata": {},
   "outputs": [],
   "source": [
    "# Correlation heatmap\n",
    "numerical_cols = c.select_dtypes(include=['float64', 'int64']).columns\n",
    "plt.figure(figsize=(12, 8))\n",
    "sns.heatmap(c[numerical_cols].corr(), annot=True, cmap='coolwarm', fmt='.2f')\n",
    "plt.title('Correlation Heatmap of Numerical Features')\n",
    "plt.show()\n"
   ]
  },
  {
   "cell_type": "code",
   "execution_count": null,
   "id": "4dac090f",
   "metadata": {},
   "outputs": [],
   "source": []
  },
  {
   "cell_type": "markdown",
   "id": "55e8f2dd",
   "metadata": {},
   "source": [
    "4. Pair plot\n",
    "- Pair plots allow you to visualize the relationships between several numerical features at once, showing distributions on the diagonal and scatter plots on the off-diagonals."
   ]
  },
  {
   "cell_type": "code",
   "execution_count": null,
   "id": "7305b3b7",
   "metadata": {},
   "outputs": [],
   "source": [
    "# Pair plot for selected numerical features\n",
    "selected_features = ['GDP', 'CO2 Emissions', 'Energy Usage', 'Internet Usage']\n",
    "sns.pairplot(c[selected_features], diag_kind='kde')\n",
    "plt.suptitle('Pair Plot of Selected Features', y=1.02)\n",
    "plt.show()\n"
   ]
  },
  {
   "cell_type": "code",
   "execution_count": null,
   "id": "62df1721",
   "metadata": {},
   "outputs": [],
   "source": []
  },
  {
   "cell_type": "markdown",
   "id": "7fa05f08",
   "metadata": {},
   "source": [
    "5. Average GDP of Top 10 Countries by Frequency"
   ]
  },
  {
   "cell_type": "markdown",
   "id": "69be17ac-a347-4ffa-af6c-f5157b89a5a9",
   "metadata": {},
   "source": [
    "- The bar chart reveals the average GDP of the top 10 most frequently listed countries in the dataset. Countries with higher average GDP stand out, highlighting significant economic strength relative to the others."
   ]
  },
  {
   "cell_type": "code",
   "execution_count": null,
   "id": "7bca231c",
   "metadata": {},
   "outputs": [],
   "source": [
    "import pandas as pd\n",
    "import matplotlib.pyplot as plt\n",
    "\n",
    "\n",
    "top_countries = c['Country'].value_counts().nlargest(10).index\n",
    "top_countries_data = c[c['Country'].isin(top_countries)].copy()\n",
    "\n",
    "# Clean and convert GDP column to float\n",
    "top_countries_data['GDP'] = top_countries_data['GDP'].replace('[\\$,]', '', regex=True).astype(float)\n",
    "\n",
    "# Calculate the average GDP for the top 10 countries\n",
    "avg_gdp_top_countries = top_countries_data.groupby('Country')['GDP'].mean().sort_values(ascending=False)\n",
    "\n",
    "# Plotting the bar chart\n",
    "plt.figure(figsize=(10, 6))\n",
    "avg_gdp_top_countries.plot(kind='bar', color= '#9DC209')\n",
    "plt.title('Average GDP of Top 10 Countries by Frequency')\n",
    "plt.xlabel('Country')\n",
    "plt.ylabel('Average GDP (in $)')\n",
    "plt.xticks(rotation=45)\n",
    "plt.tight_layout()  # Adjust layout to prevent label cutoff\n",
    "plt.show()\n"
   ]
  },
  {
   "cell_type": "code",
   "execution_count": null,
   "id": "6b426c84",
   "metadata": {},
   "outputs": [],
   "source": []
  },
  {
   "cell_type": "markdown",
   "id": "0720f0d6",
   "metadata": {},
   "source": [
    "6. Average Life Expectancy (Male and Female) by Top Countries\n",
    "- This bar plot compares the average life expectancy for males and females across the top countries in the dataset by record count.\n"
   ]
  },
  {
   "cell_type": "code",
   "execution_count": null,
   "id": "9760f003",
   "metadata": {},
   "outputs": [],
   "source": [
    "# Filter top countries by frequency\n",
    "top_countries = c['Country'].value_counts().nlargest(10).index\n",
    "top_countries_data = c[c['Country'].isin(top_countries)]\n",
    "\n",
    "# Calculate the average life expectancy for males and females in each country\n",
    "avg_life_expectancy = top_countries_data.groupby('Country')[['Life Expectancy Male', 'Life Expectancy Female']].mean()\n",
    "\n",
    "# Plotting\n",
    "avg_life_expectancy.plot(kind='bar', figsize=(12, 6), color=['skyblue', 'salmon'])\n",
    "plt.title('Average Life Expectancy (Male & Female) by Top Countries')\n",
    "plt.xlabel('Country')\n",
    "plt.ylabel('Average Life Expectancy')\n",
    "plt.legend(['Male', 'Female'])\n",
    "plt.show()\n"
   ]
  },
  {
   "cell_type": "code",
   "execution_count": null,
   "id": "32913f16",
   "metadata": {},
   "outputs": [],
   "source": []
  },
  {
   "cell_type": "markdown",
   "id": "2418c321",
   "metadata": {},
   "source": [
    "7. Average CO₂ Emissions by Country\n",
    "- This bar plot shows the average CO₂ emissions per country, helping to identify which countries contribute the most to emissions.\n"
   ]
  },
  {
   "cell_type": "code",
   "execution_count": null,
   "id": "4bb51e38",
   "metadata": {},
   "outputs": [],
   "source": [
    "import matplotlib.pyplot as plt\n",
    "\n",
    "# Sorting the average CO2 emissions from highest to lowest\n",
    "avg_co2_emissions = top_countries_data.groupby('Country')['CO2 Emissions'].mean().sort_values(ascending=False)\n",
    "\n",
    "# Plotting with multiple colors (one color for each bar)\n",
    "colors = plt.cm.get_cmap('viridis', len(avg_co2_emissions))  # Using 'viridis' colormap, you can choose another one if you like\n",
    "\n",
    "# Plotting\n",
    "avg_co2_emissions.plot(kind='bar', figsize=(10, 6), color=colors(range(len(avg_co2_emissions))))\n",
    "plt.title('Average CO₂ Emissions by Top Countries')\n",
    "plt.xlabel('Country')\n",
    "plt.ylabel('Average CO₂ Emissions')\n",
    "plt.show()\n",
    "\n"
   ]
  },
  {
   "cell_type": "code",
   "execution_count": null,
   "id": "88413f19",
   "metadata": {},
   "outputs": [],
   "source": []
  },
  {
   "cell_type": "markdown",
   "id": "d846126e",
   "metadata": {},
   "source": [
    "8. Average Business Tax Rate by Top Countries\n",
    "- This bar plot displays the average business tax rate across a selection of top countries, giving insights into the tax environment for businesses."
   ]
  },
  {
   "cell_type": "code",
   "execution_count": null,
   "id": "f1b88849",
   "metadata": {},
   "outputs": [],
   "source": [
    "import pandas as pd\n",
    "import matplotlib.pyplot as plt\n",
    "\n",
    "# Sample data frame\n",
    "# top_countries_data = pd.DataFrame(...)  # Ensure this is loaded with your data\n",
    "\n",
    "# Remove '%' sign and convert to float\n",
    "top_countries_data['Business Tax Rate'] = top_countries_data['Business Tax Rate'].str.replace('%', '').astype(float)\n",
    "\n",
    "# Group by country and calculate mean business tax rate\n",
    "avg_business_tax = top_countries_data.groupby('Country')['Business Tax Rate'].mean()\n",
    "\n",
    "# Plotting\n",
    "avg_business_tax.plot(kind='bar', figsize=(10, 6), color='purple')\n",
    "plt.title('Average Business Tax Rate by Top Countries')\n",
    "plt.xlabel('Country')\n",
    "plt.ylabel('Average Business Tax Rate')\n",
    "plt.show()\n"
   ]
  },
  {
   "cell_type": "code",
   "execution_count": null,
   "id": "a2b22b37",
   "metadata": {},
   "outputs": [],
   "source": []
  },
  {
   "cell_type": "markdown",
   "id": "ce405bfc",
   "metadata": {},
   "source": [
    "9. Average Internet Usage by Top Countries\n",
    "- This plot compares average internet usage across the top countries, highlighting digital access levels.\n"
   ]
  },
  {
   "cell_type": "code",
   "execution_count": null,
   "id": "f2adb436",
   "metadata": {},
   "outputs": [],
   "source": [
    "import matplotlib.pyplot as plt\n",
    "\n",
    "# Sorting the average internet usage from highest to lowest\n",
    "avg_internet_usage = top_countries_data.groupby('Country')['Internet Usage'].mean().sort_values(ascending=False)\n",
    "\n",
    "# Plotting with multiple colors (one color for each bar)\n",
    "colors = plt.cm.get_cmap('coolwarm', len(avg_internet_usage))  # Using 'coolwarm' colormap, you can choose another one if you like\n",
    "\n",
    "# Plotting\n",
    "avg_internet_usage.plot(kind='bar', figsize=(10, 6), color=colors(range(len(avg_internet_usage))))\n",
    "plt.title('Average Internet Usage by Top Countries')\n",
    "plt.xlabel('Country')\n",
    "plt.ylabel('Average Internet Usage (%)')\n",
    "plt.show()\n",
    "\n"
   ]
  },
  {
   "cell_type": "code",
   "execution_count": null,
   "id": "a326b6d2",
   "metadata": {},
   "outputs": [],
   "source": []
  },
  {
   "cell_type": "markdown",
   "id": "e9212909",
   "metadata": {},
   "source": [
    "10. Average Energy Usage by Top Countries\n",
    "- This plot shows the average energy usage for the top countries, revealing insights about energy consumption.\n"
   ]
  },
  {
   "cell_type": "code",
   "execution_count": null,
   "id": "04f82c3a",
   "metadata": {},
   "outputs": [],
   "source": [
    "import matplotlib.pyplot as plt\n",
    "\n",
    "# Sorting the average energy usage from highest to lowest\n",
    "avg_energy_usage = top_countries_data.groupby('Country')['Energy Usage'].mean().sort_values(ascending=False)\n",
    "\n",
    "# Plotting with multiple colors (one color for each bar)\n",
    "colors = plt.cm.get_cmap('plasma', len(avg_energy_usage))  # Using 'plasma' colormap, you can choose another one if you like\n",
    "\n",
    "# Plotting\n",
    "avg_energy_usage.plot(kind='bar', figsize=(10, 6), color=colors(range(len(avg_energy_usage))))\n",
    "plt.title('Average Energy Usage by Top Countries')\n",
    "plt.xlabel('Country')\n",
    "plt.ylabel('Average Energy Usage')\n",
    "plt.show()\n"
   ]
  },
  {
   "cell_type": "code",
   "execution_count": null,
   "id": "c2e68c2a",
   "metadata": {},
   "outputs": [],
   "source": []
  },
  {
   "cell_type": "markdown",
   "id": "8db93c59",
   "metadata": {},
   "source": [
    "11. Average Infant Mortality Rate by Country\n",
    "- This bar plot displays the average infant mortality rate across a selection of countries, highlighting differences in healthcare quality."
   ]
  },
  {
   "cell_type": "code",
   "execution_count": null,
   "id": "806dd473",
   "metadata": {},
   "outputs": [],
   "source": [
    "# Average Infant Mortality Rate for top countries\n",
    "avg_infant_mortality = top_countries_data.groupby('Country')['Infant Mortality Rate'].mean().sort_values(ascending=False)\n",
    "\n",
    "# Plotting\n",
    "avg_infant_mortality.plot(kind='bar', figsize=(10, 6), color='red')\n",
    "plt.title('Average Infant Mortality Rate by Top Countries')\n",
    "plt.xlabel('Country')\n",
    "plt.ylabel('Average Infant Mortality Rate')\n",
    "plt.show()\n"
   ]
  },
  {
   "cell_type": "code",
   "execution_count": null,
   "id": "f48fb019",
   "metadata": {},
   "outputs": [],
   "source": []
  },
  {
   "cell_type": "markdown",
   "id": "f22aef65",
   "metadata": {},
   "source": [
    "12. Mobile Phone Usage by Country\n",
    "- This bar plot displays the average mobile phone usage in selected countries, indicating the level of mobile technology adoption."
   ]
  },
  {
   "cell_type": "code",
   "execution_count": null,
   "id": "af92eddc",
   "metadata": {},
   "outputs": [],
   "source": [
    "# Calculate the average Mobile Phone Usage for top countries and sort in descending order\n",
    "avg_mobile_phone_usage = top_countries_data.groupby('Country')['Mobile Phone Usage'].mean().sort_values(ascending=False)\n",
    "\n",
    "# Plotting with multiple colors (one color for each bar)\n",
    "colors = plt.cm.get_cmap('magma', len(avg_mobile_phone_usage))  # Using 'magma' colormap, you can choose another one if you like\n",
    "\n",
    "\n",
    "# Plotting\n",
    "avg_mobile_phone_usage.plot(kind='bar', figsize=(10, 6), color=colors(range(len(avg_mobile_phone_usage))))\n",
    "plt.title('Average Mobile Phone Usage by Top Countries (Highest to Lowest)')\n",
    "plt.xlabel('Country')\n",
    "plt.ylabel('Average Mobile Phone Usage')\n",
    "plt.show()\n"
   ]
  },
  {
   "cell_type": "code",
   "execution_count": null,
   "id": "a6daaa23",
   "metadata": {},
   "outputs": [],
   "source": []
  },
  {
   "cell_type": "code",
   "execution_count": null,
   "id": "6bdc52b1",
   "metadata": {},
   "outputs": [],
   "source": []
  },
  {
   "cell_type": "markdown",
   "id": "bf01833a",
   "metadata": {},
   "source": [
    "Scatter plots\n",
    "- help visualize the relationship between two numerical columns."
   ]
  },
  {
   "cell_type": "code",
   "execution_count": null,
   "id": "5ee51ce3",
   "metadata": {},
   "outputs": [],
   "source": [
    "# Scatter plot between 'GDP' and 'CO2 Emissions'\n",
    "plt.figure(figsize=(8, 5))\n",
    "plt.scatter(c['GDP'], c['CO2 Emissions'], color='blue', alpha=0.5)\n",
    "plt.title('GDP vs CO2 Emissions')\n",
    "plt.xlabel('GDP')\n",
    "plt.ylabel('CO2 Emissions')\n",
    "plt.show()\n"
   ]
  },
  {
   "cell_type": "code",
   "execution_count": null,
   "id": "36c54293",
   "metadata": {},
   "outputs": [],
   "source": []
  },
  {
   "cell_type": "markdown",
   "id": "0f1b5f88-df0f-4d33-bafc-230e1e69f287",
   "metadata": {},
   "source": [
    "Conclusion\n",
    "\n",
    "The analysis of socio-economic and environmental indicators across countries provided meaningful insights into global trends, disparities, and relationships across various dimensions. Key findings from this analysis include:\n",
    "\n",
    "1) Economic Strength: \n",
    "\n",
    "Countries with higher average GDP emerged as economically influential, while others lagged behind, illustrating global economic disparities. This variation highlights the need for balanced economic policies to support growth in less prosperous regions.\n",
    "\n",
    "2) Health and Demographics: \n",
    "\n",
    "Differences in life expectancy showed a gender pattern favoring females, consistent with global health trends. Infant mortality rates varied significantly, serving as a key indicator of healthcare quality and resource allocation gaps across nations.\n",
    "\n",
    "3) Environmental Impact: \n",
    "\n",
    "Analysis of CO₂ emissions pointed to certain countries as major contributors to global emissions, raising concerns about environmental responsibility and underscoring the importance of sustainable practices.\n",
    "\n",
    "4) Digital and Energy Usage: \n",
    "\n",
    "Variations in internet usage and energy consumption reflected disparities in technological access and energy demands. Higher internet usage was generally associated with more developed countries, while high energy consumption pointed to greater industrial activity or energy dependence, signaling development levels.\n",
    "\n",
    "5) Healthcare Quality: \n",
    "\n",
    "The infant mortality rate served as a crucial indicator of healthcare quality, with lower rates observed in countries with robust healthcare systems. This finding emphasizes the role of healthcare investment in improving population health outcomes.\n",
    "\n",
    "6) Business Environment: \n",
    "\n",
    "Analysis of business tax rates demonstrated differences in tax environments, which can influence business operations and investment decisions, ultimately affecting economic growth and stability.\n",
    "\n",
    "7) Mobile Technology Adoption: \n",
    "\n",
    "Mobile phone usage highlighted digital adoption rates, with higher usage in economically strong countries, reflecting access to technology and connectivity infrastructure.\n",
    "\n",
    "Summary:\n",
    "\n",
    "This analysis underscored significant economic, environmental, and social differences across countries, providing a comprehensive view of global development priorities and challenges. These findings serve as a strong foundation for further analysis, such as clustering, which can categorize countries with similar socio-economic profiles. Such insights can guide targeted policies and strategic initiatives aimed at fostering balanced and sustainable global development."
   ]
  },
  {
   "cell_type": "code",
   "execution_count": null,
   "id": "c9060520",
   "metadata": {},
   "outputs": [],
   "source": []
  }
 ],
 "metadata": {
  "kernelspec": {
   "display_name": "Python 3 (ipykernel)",
   "language": "python",
   "name": "python3"
  },
  "language_info": {
   "codemirror_mode": {
    "name": "ipython",
    "version": 3
   },
   "file_extension": ".py",
   "mimetype": "text/x-python",
   "name": "python",
   "nbconvert_exporter": "python",
   "pygments_lexer": "ipython3",
   "version": "3.12.4"
  }
 },
 "nbformat": 4,
 "nbformat_minor": 5
}
